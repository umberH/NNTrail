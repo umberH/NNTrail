{
  "nbformat": 4,
  "nbformat_minor": 0,
  "metadata": {
    "colab": {
      "name": "PythonTutorial.ipynb",
      "provenance": [],
      "collapsed_sections": [],
      "toc_visible": true,
      "include_colab_link": true
    },
    "kernelspec": {
      "name": "python3",
      "display_name": "Python 3"
    },
    "language_info": {
      "name": "python"
    }
  },
  "cells": [
    {
      "cell_type": "markdown",
      "metadata": {
        "id": "view-in-github",
        "colab_type": "text"
      },
      "source": [
        "<a href=\"https://colab.research.google.com/github/umberH/NNTrail/blob/main/PythonTutorial.ipynb\" target=\"_parent\"><img src=\"https://colab.research.google.com/assets/colab-badge.svg\" alt=\"Open In Colab\"/></a>"
      ]
    },
    {
      "cell_type": "markdown",
      "metadata": {
        "id": "4UWb36LmC7bX"
      },
      "source": [
        "## Python Tutorial with Google Colab\n"
      ]
    },
    {
      "cell_type": "markdown",
      "metadata": {
        "id": "vcSExQmgEwRM"
      },
      "source": [
        "The main purpose of the notebook is to go through the basics of Python. This tutorial is developed by [Ambreen Hanif](https://www.linkedin.com/in/ambreen16/) a member of [BigDataSociety](https://data-science-group.github.io/BigDataSociety/),\n",
        " Macquarie University.\n"
      ]
    },
    {
      "cell_type": "markdown",
      "metadata": {
        "id": "yXm9xgD6FrRR"
      },
      "source": [
        "## Introduction"
      ]
    },
    {
      "cell_type": "markdown",
      "metadata": {
        "id": "8oMJrPErFuXU"
      },
      "source": [
        "Python is a dynamically typed scripting language and over the last few year it has become a very powerful tool due to its libraries to handle the data and provide insights. Another dominating feature is code readability. \n",
        "Famous libraries for handling data are (numpy, pandas) and for visualizations (matplotlib, plotly) .\n"
      ]
    },
    {
      "cell_type": "markdown",
      "metadata": {
        "id": "cUtXfc6TGKLK"
      },
      "source": [
        "This tutorial is organized as a crash course for the basic of Python Programming Language. Towards the end we will use python for scientific data handling. "
      ]
    },
    {
      "cell_type": "markdown",
      "metadata": {
        "id": "jMCP7VEoEyoi"
      },
      "source": [
        "\n",
        "# Outline:\n",
        "*  Introduction to Google Colab\n",
        "*  Introduction to Python\n",
        "*  Variables\n",
        "> Data Types and Operations\n",
        "*   Collections\n",
        "> Introduction to Collection Types and Operations (Container, List, DIctionaries, Tuples) \n",
        "* Coditional Execution\n",
        "* Iterations \n",
        "* Functions\n",
        "* Arrays\n"
      ]
    },
    {
      "cell_type": "markdown",
      "metadata": {
        "id": "GC8Tq7m_H-yN"
      },
      "source": [
        "We'll be using Python 3.7 for this iteration of the course. You can check your Python version at the command line by running \n",
        "\n",
        "```\n",
        "python --version\n",
        "```\n",
        "Note that as of July 2021, Colab uses Python 3.7.10."
      ]
    },
    {
      "cell_type": "markdown",
      "metadata": {
        "id": "gileuYueE2S3"
      },
      "source": [
        "\n",
        "You can reporoduce the code provided in this notebook."
      ]
    },
    {
      "cell_type": "code",
      "metadata": {
        "colab": {
          "base_uri": "https://localhost:8080/"
        },
        "id": "r5GAdsuiC4S3",
        "outputId": "4b0c41b5-e792-43df-f139-2ec2d4625472"
      },
      "source": [
        "!python --version"
      ],
      "execution_count": null,
      "outputs": [
        {
          "output_type": "stream",
          "text": [
            "Python 3.7.10\n"
          ],
          "name": "stdout"
        }
      ]
    },
    {
      "cell_type": "markdown",
      "metadata": {
        "id": "Bdp1wGwZJIb6"
      },
      "source": [
        "## Get To Know Colab"
      ]
    },
    {
      "cell_type": "markdown",
      "metadata": {
        "id": "Ql0t0alHJL8a"
      },
      "source": [
        "### Why Colab?\n",
        " It easy for the beginners as we need not to worry about the installation.\n",
        " We can stay focus on learning python. \n",
        "This is pythong notebook and the extension of the file is 'ipynb'."
      ]
    },
    {
      "cell_type": "markdown",
      "metadata": {
        "id": "IqARPn28JnBn"
      },
      "source": [
        "### How to use Colab?"
      ]
    },
    {
      "cell_type": "markdown",
      "metadata": {
        "id": "2iBFN0PPKVUJ"
      },
      "source": [
        "We can Execute the code on Colab Using Runtime Tab or click on the play button in the beginning of the cell to execute the particular cell.\n",
        "\n",
        "To Check and assign the shortcuts click CTRL+M H."
      ]
    },
    {
      "cell_type": "markdown",
      "metadata": {
        "id": "22N9EhZqK6z_"
      },
      "source": [
        "# Basics of Python "
      ]
    },
    {
      "cell_type": "markdown",
      "metadata": {
        "id": "F9UGoYCLLY0h"
      },
      "source": [
        "Python is a high-level, scripting programming language. Python code is very readable and we can code a problem in few lines of code.\n",
        "\n",
        "It is Dynamically Typed language means same variable can hold different values at different times."
      ]
    },
    {
      "cell_type": "markdown",
      "metadata": {
        "id": "VC24mU-xTzCq"
      },
      "source": [
        "### Comments"
      ]
    },
    {
      "cell_type": "markdown",
      "metadata": {
        "id": "gPzk2d0AT0xU"
      },
      "source": [
        "We can write comments in the coding to make it more readable. \n",
        "use '#' for comments and for comments on multiple lines use <\\`\\`\\`  ```>\n",
        "\n",
        "```\n",
        "# This is formatted as code\n",
        "```\n",
        "\n"
      ]
    },
    {
      "cell_type": "markdown",
      "metadata": {
        "id": "0L71U4SZp_cn"
      },
      "source": [
        "# Variable"
      ]
    },
    {
      "cell_type": "markdown",
      "metadata": {
        "id": "0iX33H1kqC0y"
      },
      "source": [
        "We use this notation in Algebra as well. \n",
        "A variable is a named memory location. Variable is a box that contains a value. Think of the value as the contents of the box."
      ]
    },
    {
      "cell_type": "markdown",
      "metadata": {
        "id": "3ovCA4e_7ruQ"
      },
      "source": [
        "## Naming Variables \n"
      ]
    },
    {
      "cell_type": "markdown",
      "metadata": {
        "id": "QAX3ZySY7v6o"
      },
      "source": [
        "\n",
        "\n",
        "1.   Name must be comprised of digits, upper\n",
        "case letters, lower case letters, and the\n",
        "underscore character “_”\n",
        "2.   Must begin with a letter or underscore\n",
        "\n"
      ]
    },
    {
      "cell_type": "code",
      "metadata": {
        "colab": {
          "base_uri": "https://localhost:8080/",
          "height": 132
        },
        "id": "a6VKXafP7rZo",
        "outputId": "7b4b45a5-6700-4539-c55f-7a73550f090e"
      },
      "source": [
        "#valid\n",
        "_a=10\n",
        "\n",
        "#invalid\n",
        "9a = 10\n",
        "\n",
        "#valid\n",
        "_1 = 6"
      ],
      "execution_count": null,
      "outputs": [
        {
          "output_type": "error",
          "ename": "SyntaxError",
          "evalue": "ignored",
          "traceback": [
            "\u001b[0;36m  File \u001b[0;32m\"<ipython-input-11-be282df52796>\"\u001b[0;36m, line \u001b[0;32m3\u001b[0m\n\u001b[0;31m    9a = 10\u001b[0m\n\u001b[0m     ^\u001b[0m\n\u001b[0;31mSyntaxError\u001b[0m\u001b[0;31m:\u001b[0m invalid syntax\n"
          ]
        }
      ]
    },
    {
      "cell_type": "markdown",
      "metadata": {
        "id": "pnTVC8SA6GRr"
      },
      "source": [
        "Assignment Statement '='"
      ]
    },
    {
      "cell_type": "code",
      "metadata": {
        "id": "NBS-7zD-6M4l"
      },
      "source": [
        "a=10 # assignment of value 10 to variable a"
      ],
      "execution_count": null,
      "outputs": []
    },
    {
      "cell_type": "markdown",
      "metadata": {
        "id": "C9-QLkJMP9FA"
      },
      "source": [
        "## Basic Data Types"
      ]
    },
    {
      "cell_type": "markdown",
      "metadata": {
        "id": "sTPRvnRaS7Y4"
      },
      "source": [
        "When assign a value to the variable it will learn the data type. "
      ]
    },
    {
      "cell_type": "markdown",
      "metadata": {
        "id": "TQDqaVfAQAQZ"
      },
      "source": [
        "### Numbers"
      ]
    },
    {
      "cell_type": "markdown",
      "metadata": {
        "id": "a-Ky4e35S40f"
      },
      "source": [
        "Integer and float datatypes work similar to any other programming language. \n",
        "\n"
      ]
    },
    {
      "cell_type": "code",
      "metadata": {
        "colab": {
          "base_uri": "https://localhost:8080/"
        },
        "id": "GHNvg5mpSyYG",
        "outputId": "2509399b-c1ed-4f39-88ce-f01938da12ae"
      },
      "source": [
        "a = 3\n",
        "print(a, type(a))"
      ],
      "execution_count": null,
      "outputs": [
        {
          "output_type": "stream",
          "text": [
            "3 <class 'int'>\n"
          ],
          "name": "stdout"
        }
      ]
    },
    {
      "cell_type": "code",
      "metadata": {
        "colab": {
          "base_uri": "https://localhost:8080/"
        },
        "id": "xK_NXHpcTluC",
        "outputId": "47e53858-6883-430a-ea36-95667e9f2ac0"
      },
      "source": [
        "b = 3.2\n",
        "print(b, type(b)) "
      ],
      "execution_count": null,
      "outputs": [
        {
          "output_type": "stream",
          "text": [
            "3.2 <class 'float'>\n"
          ],
          "name": "stdout"
        }
      ]
    },
    {
      "cell_type": "markdown",
      "metadata": {
        "id": "GNhzMra6UUmc"
      },
      "source": [
        "Basic Mathematical Operations"
      ]
    },
    {
      "cell_type": "code",
      "metadata": {
        "colab": {
          "base_uri": "https://localhost:8080/"
        },
        "id": "nwetwhTzUWzu",
        "outputId": "487c65ca-a4e6-4fc5-8ba1-5da7e3cec8d5"
      },
      "source": [
        "print(\"a + b =\", a + b)   # Addition\n",
        "print(\"b - a =\", b-a)   # Subtraction\n",
        "print(\"a x 2 =\",a * 2)   # Multiplication\n",
        "print(\"b ^ 2 =\",b ** 2)  # Exponentiation"
      ],
      "execution_count": null,
      "outputs": [
        {
          "output_type": "stream",
          "text": [
            "a + b = 6.2\n",
            "b - a = 0.20000000000000018\n",
            "a x 2 = 6\n",
            "b ^ 2 = 10.240000000000002\n"
          ],
          "name": "stdout"
        }
      ]
    },
    {
      "cell_type": "markdown",
      "metadata": {
        "id": "O0P4Tf2vWeHO"
      },
      "source": [
        "Python doesn't have unary operation like (y++) and (y--)."
      ]
    },
    {
      "cell_type": "code",
      "metadata": {
        "colab": {
          "base_uri": "https://localhost:8080/"
        },
        "id": "4cpLBX0bVdu3",
        "outputId": "c41cbb2f-75fb-4929-f0e3-36e3b9a4aacb"
      },
      "source": [
        "a += 1\n",
        "print(\"increment\", a)\n",
        "a *= 2\n",
        "print(\"multiplication\",a)\n",
        "a -=1\n",
        "print(\"decrement\", a)"
      ],
      "execution_count": null,
      "outputs": [
        {
          "output_type": "stream",
          "text": [
            "increment 38\n",
            "multiplication 76\n",
            "decrement 75\n"
          ],
          "name": "stdout"
        }
      ]
    },
    {
      "cell_type": "markdown",
      "metadata": {
        "id": "pEb_LcOGWMpN"
      },
      "source": [
        ""
      ]
    },
    {
      "cell_type": "code",
      "metadata": {
        "colab": {
          "base_uri": "https://localhost:8080/"
        },
        "id": "bNPsuukWVaIi",
        "outputId": "8574b5e9-aff2-4297-a5db-f2bbe50e2bda"
      },
      "source": [
        "y = 2.5\n",
        "print(type(y))\n",
        "print(y, y + 1, y * 2, y ** 2)"
      ],
      "execution_count": null,
      "outputs": [
        {
          "output_type": "stream",
          "text": [
            "<class 'float'>\n",
            "2.5 3.5 5.0 6.25\n"
          ],
          "name": "stdout"
        }
      ]
    },
    {
      "cell_type": "code",
      "metadata": {
        "id": "ae6FqkSj6gtT"
      },
      "source": [
        ""
      ],
      "execution_count": null,
      "outputs": []
    },
    {
      "cell_type": "markdown",
      "metadata": {
        "id": "80N-9Qi6ktAM"
      },
      "source": [
        "Calculate Area of Circle"
      ]
    },
    {
      "cell_type": "code",
      "metadata": {
        "colab": {
          "base_uri": "https://localhost:8080/"
        },
        "id": "5UGbrT8EkseV",
        "outputId": "2409ee25-2169-4d6b-d066-cdb3fdab2b50"
      },
      "source": [
        "r=10 \n",
        "pi=3.14\n",
        "\n",
        "area= r**2*pi   # expression is pi x r x r\n",
        "print(area)\n",
        "r = 7 \n",
        "print (area)\n",
        "area= r*r*pi\n",
        "print (area)"
      ],
      "execution_count": null,
      "outputs": [
        {
          "output_type": "stream",
          "text": [
            "314.0\n",
            "314.0\n",
            "153.86\n"
          ],
          "name": "stdout"
        }
      ]
    },
    {
      "cell_type": "markdown",
      "metadata": {
        "id": "qzIuu99V6oFR"
      },
      "source": [
        "Order is important as well. To incorporate the updated value of r we need to use expression after value assignment to r."
      ]
    },
    {
      "cell_type": "markdown",
      "metadata": {
        "id": "RTu-u-pr8Lcp"
      },
      "source": [
        "### Precedence"
      ]
    },
    {
      "cell_type": "markdown",
      "metadata": {
        "id": "xQ5MZka48N1t"
      },
      "source": [
        "Precedence is same as like in mathematics"
      ]
    },
    {
      "cell_type": "code",
      "metadata": {
        "colab": {
          "base_uri": "https://localhost:8080/",
          "height": 132
        },
        "id": "rv21eA8l8QWb",
        "outputId": "dfee085f-89ea-4a82-94a1-7ea65014e9f6"
      },
      "source": [
        "R = A + B*C \n",
        "S = A + (B*C)\n",
        "\n",
        "T=  -A**2/4 \n",
        "U = -(A**2)/4\n",
        "\n",
        "\n",
        "V = A*B/C*D \n",
        "W = ((A*B)/C)*D"
      ],
      "execution_count": null,
      "outputs": [
        {
          "output_type": "error",
          "ename": "IndentationError",
          "evalue": "ignored",
          "traceback": [
            "\u001b[0;36m  File \u001b[0;32m\"<ipython-input-12-a8729aad356e>\"\u001b[0;36m, line \u001b[0;32m5\u001b[0m\n\u001b[0;31m    U = -(A**2)/4\u001b[0m\n\u001b[0m    ^\u001b[0m\n\u001b[0;31mIndentationError\u001b[0m\u001b[0;31m:\u001b[0m unexpected indent\n"
          ]
        }
      ]
    },
    {
      "cell_type": "markdown",
      "metadata": {
        "id": "91wYQT3YAYgj"
      },
      "source": [
        "\n",
        "### Type Casting"
      ]
    },
    {
      "cell_type": "markdown",
      "metadata": {
        "id": "5pwJhAPZAcVh"
      },
      "source": [
        "Explicit Type Conversion is the way to provide the explicit data type."
      ]
    },
    {
      "cell_type": "code",
      "metadata": {
        "colab": {
          "base_uri": "https://localhost:8080/"
        },
        "id": "-hzE3TgWAYQf",
        "outputId": "0da6cdee-abbe-4dc6-f40d-d8b080eb9336"
      },
      "source": [
        "a = 4.5\n",
        "c = 5.7 \n",
        "\n",
        "b = int(a)+int(c)\n",
        "print(b)\n",
        "\n",
        "d= float(b)\n",
        "print(d)"
      ],
      "execution_count": null,
      "outputs": [
        {
          "output_type": "stream",
          "text": [
            "9\n",
            "9.0\n"
          ],
          "name": "stdout"
        }
      ]
    },
    {
      "cell_type": "markdown",
      "metadata": {
        "id": "Genxd1m-W4JR"
      },
      "source": [
        "We can use long integers and complex numbers in python as well. For details please view this [documentation](https://docs.python.org/3.7/library/stdtypes.html#numeric-types-int-float-long-complex)."
      ]
    },
    {
      "cell_type": "markdown",
      "metadata": {
        "id": "ICeQQVC2QBxL"
      },
      "source": [
        "### Boolean"
      ]
    },
    {
      "cell_type": "code",
      "metadata": {
        "colab": {
          "base_uri": "https://localhost:8080/"
        },
        "id": "vmMzPJ0tXFul",
        "outputId": "189e7878-aef5-4cf7-ec3d-51425daa9635"
      },
      "source": [
        "t, f = True, False\n",
        "print(type(t))"
      ],
      "execution_count": null,
      "outputs": [
        {
          "output_type": "stream",
          "text": [
            "<class 'bool'>\n"
          ],
          "name": "stdout"
        }
      ]
    },
    {
      "cell_type": "markdown",
      "metadata": {
        "id": "9x8MN9-7Yv68"
      },
      "source": [
        "logical operation examples"
      ]
    },
    {
      "cell_type": "code",
      "metadata": {
        "colab": {
          "base_uri": "https://localhost:8080/"
        },
        "id": "x2nBFYXyQQSg",
        "outputId": "d19fbd00-df0c-44d9-fe2d-426a0d6e3c35"
      },
      "source": [
        "print(t and f) # Logical AND;\n",
        "print(t or f)  # Logical OR;\n",
        "print(not t)   # Logical NOT;\n",
        "print(t != f)  # Logical XOR;"
      ],
      "execution_count": null,
      "outputs": [
        {
          "output_type": "stream",
          "text": [
            "False\n",
            "True\n",
            "False\n",
            "True\n"
          ],
          "name": "stdout"
        }
      ]
    },
    {
      "cell_type": "markdown",
      "metadata": {
        "id": "-Tu7wy95QHi1"
      },
      "source": [
        "### String"
      ]
    },
    {
      "cell_type": "code",
      "metadata": {
        "colab": {
          "base_uri": "https://localhost:8080/"
        },
        "id": "65xF0sBXP4-o",
        "outputId": "56a06b95-7d05-44e7-be3d-a0577af3e098"
      },
      "source": [
        "hello = 'hello'   # String literals can use single quotes\n",
        "world = \"world\"   # or double quotes; it does not matter\n",
        "print(hello,\"size\", len(hello),world,\"size\",len(world))"
      ],
      "execution_count": null,
      "outputs": [
        {
          "output_type": "stream",
          "text": [
            "hello size 5 world size 5\n"
          ],
          "name": "stdout"
        }
      ]
    },
    {
      "cell_type": "code",
      "metadata": {
        "colab": {
          "base_uri": "https://localhost:8080/"
        },
        "id": "lhRWUyArPY4u",
        "outputId": "8bd384f7-7413-4025-8435-ee57af64d615"
      },
      "source": [
        "hw = hello + ' ' + world  # String concatenation\n",
        "print(hw)"
      ],
      "execution_count": null,
      "outputs": [
        {
          "output_type": "stream",
          "text": [
            "hello world\n"
          ],
          "name": "stdout"
        }
      ]
    },
    {
      "cell_type": "code",
      "metadata": {
        "colab": {
          "base_uri": "https://localhost:8080/"
        },
        "id": "g3oD4PRAZg4d",
        "outputId": "97fcc3f4-c24a-4f16-d3a0-0e0946416e1b"
      },
      "source": [
        "s12 = '{} {} {}'.format(hello, world, 12)  # string formatting\n",
        "print(s12)"
      ],
      "execution_count": null,
      "outputs": [
        {
          "output_type": "stream",
          "text": [
            "hello world 12\n"
          ],
          "name": "stdout"
        }
      ]
    },
    {
      "cell_type": "code",
      "metadata": {
        "colab": {
          "base_uri": "https://localhost:8080/"
        },
        "id": "voaUOhhVZguo",
        "outputId": "bcf36d2c-4b10-46b0-8b5c-7e95db061f3c"
      },
      "source": [
        "s = \"hello\"\n",
        "print(s.capitalize())  # Capitalize a string\n",
        "print(s.upper())       # Convert a string to uppercase; prints \"HELLO\"\n",
        "print(s.rjust(7))      # Right-justify a string, padding with spaces\n",
        "print(s.center(7))     # Center a string, padding with spaces\n",
        "print(s.replace('l', '(ell)'))  # Replace all instances of one substring with another\n",
        "print('  world '.strip())  # Strip leading and trailing whitespace"
      ],
      "execution_count": null,
      "outputs": [
        {
          "output_type": "stream",
          "text": [
            "Hello\n",
            "HELLO\n",
            "  hello\n",
            " hello \n",
            "he(ell)(ell)o\n",
            "world\n"
          ],
          "name": "stdout"
        }
      ]
    },
    {
      "cell_type": "markdown",
      "metadata": {
        "id": "yQ4juDLmBuNL"
      },
      "source": [
        "### Type Casting with String"
      ]
    },
    {
      "cell_type": "code",
      "metadata": {
        "colab": {
          "base_uri": "https://localhost:8080/"
        },
        "id": "h5E858-DBNrT",
        "outputId": "00c2a980-7263-4e8f-d98b-7c0ba4fba181"
      },
      "source": [
        "s='123'\n",
        "p = s*2\n",
        "print(p)\n",
        "\n",
        "q= float(s)*2\n",
        "print(q)\n",
        "\n",
        "r= int(s)*2\n",
        "print(r)\n",
        "\n",
        "s = -123 \n",
        "t = s+2\n",
        "u =str(t)*2\n",
        "print(u)"
      ],
      "execution_count": null,
      "outputs": [
        {
          "output_type": "stream",
          "text": [
            "123123\n",
            "246.0\n",
            "246\n",
            "-121-121\n"
          ],
          "name": "stdout"
        }
      ]
    },
    {
      "cell_type": "markdown",
      "metadata": {
        "id": "yWacWAeaaCWs"
      },
      "source": [
        "For more operations please refer to this [documentation](https://docs.python.org/3.7/library/stdtypes.html#string-methods)."
      ]
    },
    {
      "cell_type": "markdown",
      "metadata": {
        "id": "wSLIzwoDGiIM"
      },
      "source": [
        "### User Input"
      ]
    },
    {
      "cell_type": "code",
      "metadata": {
        "colab": {
          "base_uri": "https://localhost:8080/"
        },
        "id": "3HOJtN0-Ghj5",
        "outputId": "bb72d57d-01bf-4796-e1ac-0408ed4da50b"
      },
      "source": [
        "a = input('Enter a pos float: ')\n",
        "\n"
      ],
      "execution_count": null,
      "outputs": [
        {
          "output_type": "stream",
          "text": [
            "Enter a pos float: 5\n"
          ],
          "name": "stdout"
        }
      ]
    },
    {
      "cell_type": "markdown",
      "metadata": {
        "id": "6NwTuFTjPOdm"
      },
      "source": [
        "## Containers"
      ]
    },
    {
      "cell_type": "markdown",
      "metadata": {
        "id": "os_XMcxSa2Ka"
      },
      "source": [
        "Python includes several built-in container types: lists, dictionaries, sets, and tuples.\n",
        "\n",
        "\n",
        "*   List items are ordered, changeable, and allow duplicate values.\n",
        "*   Tuple items are ordered, unchangeable, and allow duplicate values.\n",
        "*   Set items are unordered, unchangeable, and do not allow duplicate values."
      ]
    },
    {
      "cell_type": "markdown",
      "metadata": {
        "id": "hIdUDNgkQXPi"
      },
      "source": [
        "### Lists"
      ]
    },
    {
      "cell_type": "code",
      "metadata": {
        "id": "_OYJXllYmRLs"
      },
      "source": [
        "mylist = [\"rabbit\", \"mouse\", \"bear\"]  "
      ],
      "execution_count": null,
      "outputs": []
    },
    {
      "cell_type": "markdown",
      "metadata": {
        "id": "h32fk9xGqSQ8"
      },
      "source": [
        "Access items of the list:"
      ]
    },
    {
      "cell_type": "code",
      "metadata": {
        "id": "-LKOAXMVqV8o"
      },
      "source": [
        "mylist[1]"
      ],
      "execution_count": null,
      "outputs": []
    },
    {
      "cell_type": "code",
      "metadata": {
        "id": "2KJi4fFDqd0l"
      },
      "source": [
        "mylist[-1]"
      ],
      "execution_count": null,
      "outputs": []
    },
    {
      "cell_type": "markdown",
      "metadata": {
        "id": "2fCMW_fMQd1H"
      },
      "source": [
        "### Sublists, Slicing"
      ]
    },
    {
      "cell_type": "code",
      "metadata": {
        "colab": {
          "base_uri": "https://localhost:8080/"
        },
        "id": "royPWjgVbJYV",
        "outputId": "29e7eabb-7ff1-41cb-99f9-77cbd9ef2cca"
      },
      "source": [
        "nums = list(range(10))    # range is a built-in function that creates a list of integers\n",
        "print(nums)         # Prints \"[0, 1, 2, 3, 4]\"\n",
        "print(nums[2:7])    # Get a slice from index 2 to 7 (exclusive); prints \"[2, 3, 4, 5, 6]\"\n",
        "print(nums[7:])     # Get a slice from index 7 to the end; prints \"[7, 8, 9]\"\n",
        "print(nums[:2])     # Get a slice from the start to index 2 (exclusive); prints \"[0, 1]\"\n",
        "print(nums[:])      # Get a slice of the whole list; prints [\"0, 1, 2, 3, 4, 5, 6, 7, 8, 9]\"\n",
        "print(nums[:-1])    # Slice indices can be negative; prints [\"0, 1, 2, 3, 4, 5, 6, 7, 8]\"\n",
        "nums[2:4] = [8, 9] # Assign a new sublist to a slice    \n",
        "print(nums)"
      ],
      "execution_count": null,
      "outputs": [
        {
          "output_type": "stream",
          "text": [
            "[0, 1, 2, 3, 4, 5, 6, 7, 8, 9]\n",
            "[2, 3, 4, 5, 6]\n",
            "[7, 8, 9]\n",
            "[0, 1]\n",
            "[0, 1, 2, 3, 4, 5, 6, 7, 8, 9]\n",
            "[0, 1, 2, 3, 4, 5, 6, 7, 8]\n",
            "[0, 1, 8, 9, 4, 5, 6, 7, 8, 9]\n"
          ],
          "name": "stdout"
        }
      ]
    },
    {
      "cell_type": "markdown",
      "metadata": {
        "id": "m3dGcG7LqoBL"
      },
      "source": [
        "Change a Range of Item Values:"
      ]
    },
    {
      "cell_type": "code",
      "metadata": {
        "id": "1_5RfHi_qo_Y"
      },
      "source": [
        "mylist[1:2] = [\"lion\", \"horse\"]"
      ],
      "execution_count": null,
      "outputs": []
    },
    {
      "cell_type": "code",
      "metadata": {
        "id": "xOi2jn1Wq5yX"
      },
      "source": [
        "mylist.insert(2, \"another\")"
      ],
      "execution_count": null,
      "outputs": []
    },
    {
      "cell_type": "markdown",
      "metadata": {
        "id": "VpuXhzFsrAWQ"
      },
      "source": [
        "Add items to the list:"
      ]
    },
    {
      "cell_type": "code",
      "metadata": {
        "id": "TqVh6t2brD6u"
      },
      "source": [
        "mylist.append(\"newanimal\")"
      ],
      "execution_count": null,
      "outputs": []
    },
    {
      "cell_type": "code",
      "metadata": {
        "id": "XN5oBgwvrYxm"
      },
      "source": [
        "newlist = ['a', 'b','c']\n",
        "mylist.extend(newlist)"
      ],
      "execution_count": null,
      "outputs": []
    },
    {
      "cell_type": "markdown",
      "metadata": {
        "id": "kf6IsXQrrtRg"
      },
      "source": [
        "Remove items froma  a list:"
      ]
    },
    {
      "cell_type": "code",
      "metadata": {
        "id": "kaIGjvNWrxex"
      },
      "source": [
        "mylist.remove(\"a\")"
      ],
      "execution_count": null,
      "outputs": []
    },
    {
      "cell_type": "code",
      "metadata": {
        "id": "zDbx1K9Zr2wZ"
      },
      "source": [
        "mylist.pop(1) # consider the index of the item"
      ],
      "execution_count": null,
      "outputs": []
    },
    {
      "cell_type": "code",
      "metadata": {
        "id": "6DxSKW_ir9Qy"
      },
      "source": [
        "del mylist[0] # consider the index of the item"
      ],
      "execution_count": null,
      "outputs": []
    },
    {
      "cell_type": "code",
      "metadata": {
        "id": "3ZSPZz3FsDzK"
      },
      "source": [
        "mylist.clear() # empties the list"
      ],
      "execution_count": null,
      "outputs": []
    },
    {
      "cell_type": "markdown",
      "metadata": {
        "id": "UX5-S5lrsRZ_"
      },
      "source": [
        "### Loop through a list:"
      ]
    },
    {
      "cell_type": "code",
      "metadata": {
        "id": "v9GGEfsRsQfL"
      },
      "source": [
        "mylist = [\"rabbit\", \"mouse\", \"bear\"]  \n",
        "for x in mylist:\n",
        "  print(x)"
      ],
      "execution_count": null,
      "outputs": []
    },
    {
      "cell_type": "code",
      "metadata": {
        "id": "peMtLLZfsrr6"
      },
      "source": [
        "i = 0\n",
        "while i < len(thislist):\n",
        "  print(thislist[i])\n",
        "  i = i + 1"
      ],
      "execution_count": null,
      "outputs": []
    },
    {
      "cell_type": "markdown",
      "metadata": {
        "id": "LqVGr-I4RRRD"
      },
      "source": [
        "### List Comprehension"
      ]
    },
    {
      "cell_type": "code",
      "metadata": {
        "id": "E8hA3GRQbKvr"
      },
      "source": [
        "names = [\"A\", \"B\", \"C\", \"D\", \"E\"]\n",
        "\n",
        "newnames = [x for x in names if \"a\" in x]\n",
        "\n",
        "print(newnames)"
      ],
      "execution_count": null,
      "outputs": []
    },
    {
      "cell_type": "markdown",
      "metadata": {
        "id": "Y8JHHKHBtDNL"
      },
      "source": [
        "Sort lists: sort() method that will sort the list alphanumerically or numerically."
      ]
    },
    {
      "cell_type": "code",
      "metadata": {
        "id": "dmylmFnatVVZ"
      },
      "source": [
        "list1 = [10, 50, 3, 0, 42]\n",
        "list1.sort()\n",
        "print(list1)"
      ],
      "execution_count": null,
      "outputs": []
    },
    {
      "cell_type": "code",
      "metadata": {
        "id": "d62YPeThtcG0"
      },
      "source": [
        "thislist = [\"Sara\", \"Zoey\", \"Ambreen\", \"John\", \"Kelly\"]\n",
        "print(thislist.sort())"
      ],
      "execution_count": null,
      "outputs": []
    },
    {
      "cell_type": "markdown",
      "metadata": {
        "id": "HR45ALPkRdnI"
      },
      "source": [
        "### Dictionaries"
      ]
    },
    {
      "cell_type": "code",
      "metadata": {
        "colab": {
          "base_uri": "https://localhost:8080/"
        },
        "id": "2pd2ZdScbLH0",
        "outputId": "92703e70-fe45-4c53-e004-d70c6b8ff583"
      },
      "source": [
        "d = {'snake': 'slither', 'dog': 'walk','shark','swim'}  # Create a new dictionary with some data\n",
        "print(d['snake'])       # Get an entry from a dictionary; prints \"slither\"\n",
        "print('dog' in d)     # Check if a dictionary has a given key; prints \"True\""
      ],
      "execution_count": null,
      "outputs": [
        {
          "output_type": "stream",
          "text": [
            "slither\n",
            "True\n"
          ],
          "name": "stdout"
        }
      ]
    },
    {
      "cell_type": "markdown",
      "metadata": {
        "id": "pSVv0HxmRk8L"
      },
      "source": [
        "### Sets"
      ]
    },
    {
      "cell_type": "code",
      "metadata": {
        "id": "J9yCmbNobMGn"
      },
      "source": [
        "animal = {\"rabbit\", \"mouse\", \"bear\"}  # represented with paranthesis\n",
        "\n",
        "multi_type_set = {12, 34.0 , \"bear\"}\n",
        "multi_type_set.add(5)"
      ],
      "execution_count": null,
      "outputs": []
    },
    {
      "cell_type": "markdown",
      "metadata": {
        "id": "1iTk-zDknp2b"
      },
      "source": [
        "Get the length of the set:"
      ]
    },
    {
      "cell_type": "code",
      "metadata": {
        "id": "z5j3IbqensTd",
        "colab": {
          "base_uri": "https://localhost:8080/"
        },
        "outputId": "f8a9389a-c08c-4fde-c83a-0d38b1bd888f"
      },
      "source": [
        "print(len(animal))\n",
        "print(multi_type_set)"
      ],
      "execution_count": null,
      "outputs": [
        {
          "output_type": "stream",
          "text": [
            "3\n",
            "{'bear', 34.0, 12, 5}\n"
          ],
          "name": "stdout"
        }
      ]
    },
    {
      "cell_type": "markdown",
      "metadata": {
        "id": "x7TL1Qbvn2WU"
      },
      "source": [
        "Remove set items:"
      ]
    },
    {
      "cell_type": "code",
      "metadata": {
        "id": "JVUF_insn1bt"
      },
      "source": [
        "animal.remove(\"rabbit\")"
      ],
      "execution_count": null,
      "outputs": []
    },
    {
      "cell_type": "markdown",
      "metadata": {
        "id": "sLXg-aD1oAa9"
      },
      "source": [
        "Loop in set items:"
      ]
    },
    {
      "cell_type": "code",
      "metadata": {
        "id": "9_hQ-xZloD5u",
        "colab": {
          "base_uri": "https://localhost:8080/"
        },
        "outputId": "506efefe-eaca-4d98-d876-bf3608318314"
      },
      "source": [
        "for x in animal:\n",
        "  print(x)"
      ],
      "execution_count": null,
      "outputs": [
        {
          "output_type": "stream",
          "text": [
            "bear\n",
            "mouse\n"
          ],
          "name": "stdout"
        }
      ]
    },
    {
      "cell_type": "markdown",
      "metadata": {
        "id": "Evuf4FqGoH7U"
      },
      "source": [
        "Join two sets:"
      ]
    },
    {
      "cell_type": "markdown",
      "metadata": {
        "id": "QC8IdrDIonbm"
      },
      "source": [
        "Using *union()* method returns a new set with all items from both sets:"
      ]
    },
    {
      "cell_type": "code",
      "metadata": {
        "id": "dy74tjYEoKAd",
        "colab": {
          "base_uri": "https://localhost:8080/"
        },
        "outputId": "87802d5d-0169-4659-b964-147b3f42095a"
      },
      "source": [
        "animal_2 = {\"cow\", \"donkey\" , \"monkey\"}\n",
        "allanimals = animal.union(animal_2)\n",
        "print(allanimals)"
      ],
      "execution_count": null,
      "outputs": [
        {
          "output_type": "stream",
          "text": [
            "{'bear', 'mouse', 'cow', 'monkey', 'donkey'}\n"
          ],
          "name": "stdout"
        }
      ]
    },
    {
      "cell_type": "markdown",
      "metadata": {
        "id": "Gx8LbyqeottB"
      },
      "source": [
        "The *update()* method inserts the items in myset_2 into myset:"
      ]
    },
    {
      "cell_type": "code",
      "metadata": {
        "id": "yiH6DXJUo2G6",
        "colab": {
          "base_uri": "https://localhost:8080/"
        },
        "outputId": "8a0b9819-a0ec-4d16-9509-26370d5e36db"
      },
      "source": [
        "animalslist = allanimals.update(animal_2)\n",
        "print(animalslist)"
      ],
      "execution_count": null,
      "outputs": [
        {
          "output_type": "stream",
          "text": [
            "None\n"
          ],
          "name": "stdout"
        }
      ]
    },
    {
      "cell_type": "markdown",
      "metadata": {
        "id": "zI1_c0S-pNZx"
      },
      "source": [
        "The *intersection()* method will return a new set, that only contains the items that are present in both sets."
      ]
    },
    {
      "cell_type": "code",
      "metadata": {
        "id": "4WbMqC8WpP1t",
        "colab": {
          "base_uri": "https://localhost:8080/"
        },
        "outputId": "91bb6ac3-77ac-43c0-f68b-b78ba48f399e"
      },
      "source": [
        "newset = myset.intersection(myset_2)\n",
        "print(newset)"
      ],
      "execution_count": null,
      "outputs": [
        {
          "output_type": "stream",
          "text": [
            "{'cow', 'monkey', 'donkey'}\n"
          ],
          "name": "stdout"
        }
      ]
    },
    {
      "cell_type": "markdown",
      "metadata": {
        "id": "QiRCCqUypf6N"
      },
      "source": [
        "There also other methods like:\n",
        "\n",
        "\n",
        "*   add(): to add an element to the set\n",
        "*   clear():\tto remove all the elements from the set\n",
        "*   copy(): to\treturn a copy of the set\n",
        "*   pop():\tto remove an element from the set\n",
        "*   ...\n",
        "\n"
      ]
    },
    {
      "cell_type": "markdown",
      "metadata": {
        "id": "VW1dEv4oRqeu"
      },
      "source": [
        "### Tuples"
      ]
    },
    {
      "cell_type": "code",
      "metadata": {
        "id": "fLfd6aTDmcrg"
      },
      "source": [
        "mytuple = (\"rabbit\", \"mouse\", \"bear\")"
      ],
      "execution_count": null,
      "outputs": []
    },
    {
      "cell_type": "markdown",
      "metadata": {
        "id": "azSsyEX4v_iL"
      },
      "source": [
        "Access items of the tuple:"
      ]
    },
    {
      "cell_type": "code",
      "metadata": {
        "id": "l02cg_VsuFsI"
      },
      "source": [
        "print(mytuple[0])"
      ],
      "execution_count": null,
      "outputs": []
    },
    {
      "cell_type": "code",
      "metadata": {
        "id": "EF_O2NRruMYN"
      },
      "source": [
        "print(mytuple[-1])"
      ],
      "execution_count": null,
      "outputs": []
    },
    {
      "cell_type": "code",
      "metadata": {
        "id": "LupCOIKIuRU5"
      },
      "source": [
        "mytuple = ('A','B','C','a','b','c')\n",
        "print(mytuple[1:2])\n",
        "print(mytuple[2:])"
      ],
      "execution_count": null,
      "outputs": []
    },
    {
      "cell_type": "markdown",
      "metadata": {
        "id": "eXhZkUxxuqGK"
      },
      "source": [
        "Tuples are unchangeable but there is a way by converting the tuple into a list."
      ]
    },
    {
      "cell_type": "code",
      "metadata": {
        "id": "ea74w7Aau6az"
      },
      "source": [
        "tuble2list = list(mytuple)\n",
        "tuble2list[2] = \"Z\"\n",
        "mytuple = tuple(tuble2list)\n",
        "print(x)"
      ],
      "execution_count": null,
      "outputs": []
    },
    {
      "cell_type": "markdown",
      "metadata": {
        "id": "HyXkpdqBvU3h"
      },
      "source": [
        "Similarly we can use append() and remove() and other functions that have been introduced earlier using this trick."
      ]
    },
    {
      "cell_type": "markdown",
      "metadata": {
        "id": "T_grN1IsvtXS"
      },
      "source": [
        "Joining tuples: using + and * operators"
      ]
    },
    {
      "cell_type": "code",
      "metadata": {
        "id": "5jBYoHzZvxq0"
      },
      "source": [
        "t1 = (\"a\", \"b\" , \"c\")\n",
        "t2 = (\"A\", \"B\", 3)\n",
        "\n",
        "print(t1 + t2)  # joining two tuples"
      ],
      "execution_count": null,
      "outputs": []
    },
    {
      "cell_type": "code",
      "metadata": {
        "id": "rkpAz7JYwVqD"
      },
      "source": [
        "print(t1 * 2)  # multiplying the content of a tuple"
      ],
      "execution_count": null,
      "outputs": []
    },
    {
      "cell_type": "markdown",
      "metadata": {
        "id": "1GYqQeYWRuJC"
      },
      "source": [
        "## Iteration"
      ]
    },
    {
      "cell_type": "markdown",
      "metadata": {
        "id": "K9CONldwxF5Q"
      },
      "source": [
        "Lists, tuples, dictionaries, and sets are all iterable containers. all have iter() which can be used to perform iterations."
      ]
    },
    {
      "cell_type": "code",
      "metadata": {
        "id": "PsqIAbSfxZJ0"
      },
      "source": [
        "mytuple = (\"rabbit\", \"mouse\", \"bear\")\n",
        "iter1 = iter(mytuple)\n",
        "iter2 = iter(mytuple)\n",
        "iter3 = iter(mytuple)\n",
        "print(iter1)\n",
        "print(iter2)\n",
        "print(iter3)"
      ],
      "execution_count": null,
      "outputs": []
    },
    {
      "cell_type": "code",
      "metadata": {
        "id": "S_s1r9__ycTr"
      },
      "source": [
        "string = \"STRING\"\n",
        "iter1 = iter(string)\n",
        "iter2 = iter(string)\n",
        "print(iter1)\n",
        "print(iter2)"
      ],
      "execution_count": null,
      "outputs": []
    },
    {
      "cell_type": "markdown",
      "metadata": {
        "id": "Yj5-XBxvH7lV"
      },
      "source": [
        "### Conditional Execution"
      ]
    },
    {
      "cell_type": "markdown",
      "metadata": {
        "id": "abz519S20cyj"
      },
      "source": [
        "##Decision Making"
      ]
    },
    {
      "cell_type": "markdown",
      "metadata": {
        "id": "cXpzfJQu0oKd"
      },
      "source": [
        "##Using Loops"
      ]
    },
    {
      "cell_type": "markdown",
      "metadata": {
        "id": "2xGsgAB4iRLN"
      },
      "source": [
        "## List Comprehension"
      ]
    },
    {
      "cell_type": "markdown",
      "metadata": {
        "id": "kL9x4kWciUHc"
      },
      "source": [
        "## Map()"
      ]
    },
    {
      "cell_type": "markdown",
      "metadata": {
        "id": "Im1lyLyOR8T8"
      },
      "source": [
        "## Functions"
      ]
    },
    {
      "cell_type": "markdown",
      "metadata": {
        "id": "MLMVDF6_SNKh"
      },
      "source": [
        "##Arrays"
      ]
    },
    {
      "cell_type": "markdown",
      "metadata": {
        "id": "Q0KICZhYSOyi"
      },
      "source": [
        ""
      ]
    },
    {
      "cell_type": "markdown",
      "metadata": {
        "id": "XE5CluHPSR4C"
      },
      "source": [
        "### Array Indexing"
      ]
    },
    {
      "cell_type": "markdown",
      "metadata": {
        "id": "OjCJQ_fQSadt"
      },
      "source": [
        "### Data Types"
      ]
    },
    {
      "cell_type": "markdown",
      "metadata": {
        "id": "7fnjgnEUSeh7"
      },
      "source": [
        "### Array Maths"
      ]
    }
  ]
}